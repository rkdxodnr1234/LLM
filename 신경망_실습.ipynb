{
  "nbformat": 4,
  "nbformat_minor": 0,
  "metadata": {
    "colab": {
      "provenance": [],
      "gpuType": "T4",
      "mount_file_id": "1fPY76qbgvc_I9ovPgo6v76A7uBC5jlFV",
      "authorship_tag": "ABX9TyNDsTcxc9qXcA405mdMqNrl",
      "include_colab_link": true
    },
    "kernelspec": {
      "name": "python3",
      "display_name": "Python 3"
    },
    "language_info": {
      "name": "python"
    },
    "accelerator": "GPU"
  },
  "cells": [
    {
      "cell_type": "markdown",
      "metadata": {
        "id": "view-in-github",
        "colab_type": "text"
      },
      "source": [
        "<a href=\"https://colab.research.google.com/github/rkdxodnr1234/tiiw/blob/main/%EC%8B%A0%EA%B2%BD%EB%A7%9D_%EC%8B%A4%EC%8A%B5.ipynb\" target=\"_parent\"><img src=\"https://colab.research.google.com/assets/colab-badge.svg\" alt=\"Open In Colab\"/></a>"
      ]
    },
    {
      "cell_type": "code",
      "source": [
        "from google.colab import drive\n",
        "drive.mount('/content/drive')"
      ],
      "metadata": {
        "colab": {
          "base_uri": "https://localhost:8080/"
        },
        "id": "VsHTwlS2Zqjn",
        "outputId": "c10e131c-a5aa-4e80-ff01-124510a0ffba"
      },
      "execution_count": null,
      "outputs": [
        {
          "output_type": "stream",
          "name": "stdout",
          "text": [
            "Drive already mounted at /content/drive; to attempt to forcibly remount, call drive.mount(\"/content/drive\", force_remount=True).\n"
          ]
        }
      ]
    },
    {
      "cell_type": "code",
      "execution_count": null,
      "metadata": {
        "id": "ZT8SDtZVv41l"
      },
      "outputs": [],
      "source": [
        "# 실행마다 동일한 결과를 얻기 위해 케라스에 랜덤 시드를 사용하고 텐서플로 연산을 결정적으로 만듭니다.\n",
        "import tensorflow as tf\n",
        "\n",
        "tf.keras.utils.set_random_seed(42)\n",
        "tf.config.experimental.enable_op_determinism()"
      ]
    },
    {
      "cell_type": "code",
      "source": [
        "import os\n",
        "from PIL import Image\n",
        "import numpy as np\n",
        "from sklearn.model_selection import train_test_split\n",
        "from tensorflow import keras\n",
        "import tensorflow as tf"
      ],
      "metadata": {
        "id": "6VHB0hzmj-Xr"
      },
      "execution_count": null,
      "outputs": []
    },
    {
      "cell_type": "code",
      "execution_count": null,
      "metadata": {
        "id": "DMSfi2eyY45K"
      },
      "outputs": [],
      "source": [
        "# train 데이터와 동일한 폴더 경로\n",
        "train_folder_paths = [\n",
        "    '/content/drive/MyDrive/fruit/train/Apple Red 1',\n",
        "    '/content/drive/MyDrive/fruit/train/Banana',\n",
        "    '/content/drive/MyDrive/fruit/train/Lemon',\n",
        "    '/content/drive/MyDrive/fruit/train/Peach',\n",
        "    '/content/drive/MyDrive/fruit/train/Pear',\n",
        "    '/content/drive/MyDrive/fruit/train/Plum'\n",
        "]\n",
        "\n",
        "# test 데이터 폴더 경로\n",
        "test_folder_paths = [\n",
        "    '/content/drive/MyDrive/fruit/test/Apple Red 1',\n",
        "    '/content/drive/MyDrive/fruit/test/Banana',\n",
        "    '/content/drive/MyDrive/fruit/test/Lemon',\n",
        "    '/content/drive/MyDrive/fruit/test/Peach',\n",
        "    '/content/drive/MyDrive/fruit/test/Pear',\n",
        "    '/content/drive/MyDrive/fruit/test/Plum'\n",
        "]\n",
        "\n",
        "# 파일명을 가져오는 함수\n",
        "def get_filenames(folder_paths):\n",
        "    filenames = []\n",
        "    for folder_path in folder_paths:\n",
        "        for filename in os.listdir(folder_path):\n",
        "            if filename.endswith('.jpg'):\n",
        "                filenames.append(os.path.join(folder_path, filename))\n",
        "    return filenames\n",
        "\n",
        "# train 데이터 파일명을 가져옵니다.\n",
        "train_file_list = get_filenames(train_folder_paths)\n",
        "\n",
        "# test 데이터 파일명을 가져옵니다.\n",
        "test_file_list = get_filenames(test_folder_paths)\n",
        "\n",
        "# train 데이터를 처리하여 train_input과 train_target을 만듭니다.\n",
        "train_input = []\n",
        "train_target = []\n",
        "\n",
        "for file in train_file_list:\n",
        "    image = Image.open(file)\n",
        "    image = image.resize((64, 64))  # 이미지 크기를 조정\n",
        "    image_array = np.array(image) / 255.0  # 이미지를 0-1 범위로 스케일링\n",
        "    train_input.append(image_array)\n",
        "    target = file.split('/')[-2]\n",
        "    train_target.append(target)\n",
        "\n",
        "# test 데이터를 처리하여 test_input과 test_target을 만듭니다.\n",
        "test_input = []\n",
        "test_target = []\n",
        "\n",
        "for file in test_file_list:\n",
        "    image = Image.open(file)\n",
        "    image = image.resize((64, 64))  # 이미지 크기를 조정\n",
        "    image_array = np.array(image) / 255.0  # 이미지를 0-1 범위로 스케일링\n",
        "    test_input.append(image_array)\n",
        "    target = file.split('/')[-2]\n",
        "    test_target.append(target)\n"
      ]
    },
    {
      "cell_type": "code",
      "source": [
        "# train_input과 train_target, test_input과 test_target을 numpy 배열로 변환합니다.\n",
        "train_input = np.array(train_input)\n",
        "train_target = np.array(train_target)\n",
        "test_input = np.array(test_input)\n",
        "test_target = np.array(test_target)\n",
        "\n",
        "# 클래스 이름을 인덱스로 매핑하기 위한 딕셔너리 생성\n",
        "class_names = ['Apple Red 1', 'Banana', 'Lemon', 'Peach', 'Pear', 'Plum']\n",
        "class_dict = {class_name: idx for idx, class_name in enumerate(class_names)}\n",
        "\n",
        "# 타깃을 인덱스로 변환\n",
        "train_target = np.array([class_dict[target] for target in train_target])\n",
        "test_target = np.array([class_dict[target] for target in test_target])"
      ],
      "metadata": {
        "id": "nHEnx_IQlmYb"
      },
      "execution_count": null,
      "outputs": []
    },
    {
      "cell_type": "code",
      "source": [
        "# 데이터 크기 확인\n",
        "print(\"train_input shape:\", train_input.shape)\n",
        "print(\"train_target shape:\", train_target.shape)\n",
        "print(\"test_input shape:\", test_input.shape)\n",
        "print(\"test_target shape:\", test_target.shape)"
      ],
      "metadata": {
        "colab": {
          "base_uri": "https://localhost:8080/"
        },
        "id": "4P9u7uYQlo0a",
        "outputId": "c6eabb77-ae67-4207-98c3-4861c65b3adc"
      },
      "execution_count": null,
      "outputs": [
        {
          "output_type": "stream",
          "name": "stdout",
          "text": [
            "train_input shape: (190, 64, 64, 3)\n",
            "train_target shape: (190,)\n",
            "test_input shape: (975, 64, 64, 3)\n",
            "test_target shape: (975,)\n"
          ]
        }
      ]
    },
    {
      "cell_type": "code",
      "execution_count": null,
      "metadata": {
        "colab": {
          "base_uri": "https://localhost:8080/"
        },
        "id": "bwXDLSOWbm3L",
        "outputId": "00539bf7-c821-4260-a31d-7f77571fb4f8"
      },
      "outputs": [
        {
          "output_type": "stream",
          "name": "stdout",
          "text": [
            "Model: \"sequential_4\"\n",
            "_________________________________________________________________\n",
            " Layer (type)                Output Shape              Param #   \n",
            "=================================================================\n",
            " conv2d_3 (Conv2D)           (None, 62, 62, 32)        896       \n",
            "                                                                 \n",
            " max_pooling2d_2 (MaxPoolin  (None, 31, 31, 32)        0         \n",
            " g2D)                                                            \n",
            "                                                                 \n",
            " conv2d_4 (Conv2D)           (None, 29, 29, 64)        18496     \n",
            "                                                                 \n",
            " max_pooling2d_3 (MaxPoolin  (None, 14, 14, 64)        0         \n",
            " g2D)                                                            \n",
            "                                                                 \n",
            " conv2d_5 (Conv2D)           (None, 12, 12, 64)        36928     \n",
            "                                                                 \n",
            " flatten_4 (Flatten)         (None, 9216)              0         \n",
            "                                                                 \n",
            " dense_8 (Dense)             (None, 64)                589888    \n",
            "                                                                 \n",
            " dense_9 (Dense)             (None, 6)                 390       \n",
            "                                                                 \n",
            "=================================================================\n",
            "Total params: 646598 (2.47 MB)\n",
            "Trainable params: 646598 (2.47 MB)\n",
            "Non-trainable params: 0 (0.00 Byte)\n",
            "_________________________________________________________________\n"
          ]
        }
      ],
      "source": [
        "model.summary()"
      ]
    },
    {
      "cell_type": "code",
      "source": [
        "# train 데이터를 train/val로 분리\n",
        "train_scaled, val_scaled, train_target, val_target = train_test_split(\n",
        "    train_input, train_target, test_size=0.2, random_state=42)\n",
        "\n",
        "# 분리 후 데이터 크기 확인\n",
        "print(\"train_scaled shape:\", train_scaled.shape)\n",
        "print(\"val_scaled shape:\", val_scaled.shape)\n",
        "print(\"train_target shape:\", train_target.shape)\n",
        "print(\"val_target shape:\", val_target.shape)"
      ],
      "metadata": {
        "colab": {
          "base_uri": "https://localhost:8080/"
        },
        "id": "P8WlYZ6ElVcr",
        "outputId": "0ba5be7a-49dc-457f-f553-d1e54013e44b"
      },
      "execution_count": null,
      "outputs": [
        {
          "output_type": "stream",
          "name": "stdout",
          "text": [
            "train_scaled shape: (152, 64, 64, 3)\n",
            "val_scaled shape: (38, 64, 64, 3)\n",
            "train_target shape: (152,)\n",
            "val_target shape: (38,)\n"
          ]
        }
      ]
    },
    {
      "cell_type": "code",
      "source": [
        "# 모델 정의\n",
        "model = keras.Sequential([\n",
        "    keras.layers.Conv2D(32, (3, 3), activation='relu', input_shape=(64, 64, 3)),\n",
        "    keras.layers.MaxPooling2D((2, 2)),\n",
        "    keras.layers.Conv2D(64, (3, 3), activation='relu'),\n",
        "    keras.layers.MaxPooling2D((2, 2)),\n",
        "    keras.layers.Conv2D(64, (3, 3), activation='relu'),\n",
        "    keras.layers.Flatten(),\n",
        "    keras.layers.Dense(64, activation='relu'),\n",
        "    keras.layers.Dense(len(class_names), activation='softmax')\n",
        "])"
      ],
      "metadata": {
        "id": "wFWYtLitltIz"
      },
      "execution_count": null,
      "outputs": []
    },
    {
      "cell_type": "code",
      "source": [
        "# 모델 컴파일\n",
        "model.compile(optimizer='adam',\n",
        "              loss='sparse_categorical_crossentropy',\n",
        "              metrics=['accuracy'])"
      ],
      "metadata": {
        "id": "wlqK6ltJluyL"
      },
      "execution_count": null,
      "outputs": []
    },
    {
      "cell_type": "code",
      "source": [
        "# 모델 훈련\n",
        "history = model.fit(train_scaled, train_target, epochs=20,\n",
        "                    validation_data=(val_scaled, val_target))"
      ],
      "metadata": {
        "colab": {
          "base_uri": "https://localhost:8080/"
        },
        "id": "luNsOWqRlv8D",
        "outputId": "eaffa3cc-df88-45c7-9927-5d556efb7d6d"
      },
      "execution_count": null,
      "outputs": [
        {
          "output_type": "stream",
          "name": "stdout",
          "text": [
            "Epoch 1/20\n",
            "5/5 [==============================] - 0s 34ms/step - loss: 0.0000e+00 - accuracy: 1.0000 - val_loss: 0.0000e+00 - val_accuracy: 1.0000\n",
            "Epoch 2/20\n",
            "5/5 [==============================] - 0s 18ms/step - loss: 0.0000e+00 - accuracy: 1.0000 - val_loss: 0.0000e+00 - val_accuracy: 1.0000\n",
            "Epoch 3/20\n",
            "5/5 [==============================] - 0s 17ms/step - loss: 0.0000e+00 - accuracy: 1.0000 - val_loss: 0.0000e+00 - val_accuracy: 1.0000\n",
            "Epoch 4/20\n",
            "5/5 [==============================] - 0s 18ms/step - loss: 0.0000e+00 - accuracy: 1.0000 - val_loss: 0.0000e+00 - val_accuracy: 1.0000\n",
            "Epoch 5/20\n",
            "5/5 [==============================] - 0s 20ms/step - loss: 0.0000e+00 - accuracy: 1.0000 - val_loss: 0.0000e+00 - val_accuracy: 1.0000\n",
            "Epoch 6/20\n",
            "5/5 [==============================] - 0s 20ms/step - loss: 0.0000e+00 - accuracy: 1.0000 - val_loss: 0.0000e+00 - val_accuracy: 1.0000\n",
            "Epoch 7/20\n",
            "5/5 [==============================] - 0s 30ms/step - loss: 0.0000e+00 - accuracy: 1.0000 - val_loss: 0.0000e+00 - val_accuracy: 1.0000\n",
            "Epoch 8/20\n",
            "5/5 [==============================] - 0s 29ms/step - loss: 0.0000e+00 - accuracy: 1.0000 - val_loss: 0.0000e+00 - val_accuracy: 1.0000\n",
            "Epoch 9/20\n",
            "5/5 [==============================] - 0s 17ms/step - loss: 0.0000e+00 - accuracy: 1.0000 - val_loss: 0.0000e+00 - val_accuracy: 1.0000\n",
            "Epoch 10/20\n",
            "5/5 [==============================] - 0s 17ms/step - loss: 0.0000e+00 - accuracy: 1.0000 - val_loss: 0.0000e+00 - val_accuracy: 1.0000\n",
            "Epoch 11/20\n",
            "5/5 [==============================] - 0s 20ms/step - loss: 0.0000e+00 - accuracy: 1.0000 - val_loss: 0.0000e+00 - val_accuracy: 1.0000\n",
            "Epoch 12/20\n",
            "5/5 [==============================] - 0s 16ms/step - loss: 0.0000e+00 - accuracy: 1.0000 - val_loss: 0.0000e+00 - val_accuracy: 1.0000\n",
            "Epoch 13/20\n",
            "5/5 [==============================] - 0s 17ms/step - loss: 0.0000e+00 - accuracy: 1.0000 - val_loss: 0.0000e+00 - val_accuracy: 1.0000\n",
            "Epoch 14/20\n",
            "5/5 [==============================] - 0s 18ms/step - loss: 0.0000e+00 - accuracy: 1.0000 - val_loss: 0.0000e+00 - val_accuracy: 1.0000\n",
            "Epoch 15/20\n",
            "5/5 [==============================] - 0s 16ms/step - loss: 0.0000e+00 - accuracy: 1.0000 - val_loss: 0.0000e+00 - val_accuracy: 1.0000\n",
            "Epoch 16/20\n",
            "5/5 [==============================] - 0s 19ms/step - loss: 0.0000e+00 - accuracy: 1.0000 - val_loss: 0.0000e+00 - val_accuracy: 1.0000\n",
            "Epoch 17/20\n",
            "5/5 [==============================] - 0s 19ms/step - loss: 0.0000e+00 - accuracy: 1.0000 - val_loss: 0.0000e+00 - val_accuracy: 1.0000\n",
            "Epoch 18/20\n",
            "5/5 [==============================] - 0s 16ms/step - loss: 0.0000e+00 - accuracy: 1.0000 - val_loss: 0.0000e+00 - val_accuracy: 1.0000\n",
            "Epoch 19/20\n",
            "5/5 [==============================] - 0s 17ms/step - loss: 0.0000e+00 - accuracy: 1.0000 - val_loss: 0.0000e+00 - val_accuracy: 1.0000\n",
            "Epoch 20/20\n",
            "5/5 [==============================] - 0s 16ms/step - loss: 0.0000e+00 - accuracy: 1.0000 - val_loss: 0.0000e+00 - val_accuracy: 1.0000\n"
          ]
        }
      ]
    },
    {
      "cell_type": "code",
      "source": [
        "model.evaluate(val_scaled, val_target)"
      ],
      "metadata": {
        "colab": {
          "base_uri": "https://localhost:8080/"
        },
        "id": "HIo3-6PkmLMr",
        "outputId": "9810eb44-8177-4bc7-c402-de8d1f0e99b1"
      },
      "execution_count": null,
      "outputs": [
        {
          "output_type": "stream",
          "name": "stdout",
          "text": [
            "2/2 [==============================] - 0s 8ms/step - loss: 0.0000e+00 - accuracy: 1.0000\n"
          ]
        },
        {
          "output_type": "execute_result",
          "data": {
            "text/plain": [
              "[0.0, 1.0]"
            ]
          },
          "metadata": {},
          "execution_count": 47
        }
      ]
    },
    {
      "cell_type": "code",
      "source": [
        "# 모델 평가\n",
        "test_loss, test_acc = model.evaluate(test_input, test_target)\n",
        "print('\\n테스트 정확도:', test_acc)"
      ],
      "metadata": {
        "colab": {
          "base_uri": "https://localhost:8080/"
        },
        "id": "Ze88_WqflxKU",
        "outputId": "c03663db-7e56-4bf3-8a12-4aba3565f844"
      },
      "execution_count": null,
      "outputs": [
        {
          "output_type": "stream",
          "name": "stdout",
          "text": [
            "31/31 [==============================] - 0s 4ms/step - loss: 223.1393 - accuracy: 0.1682\n",
            "\n",
            "테스트 정확도: 0.168205127120018\n"
          ]
        }
      ]
    }
  ]
}